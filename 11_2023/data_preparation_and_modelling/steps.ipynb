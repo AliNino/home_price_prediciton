{
 "cells": [
  {
   "cell_type": "code",
   "execution_count": 2,
   "id": "9184b348-5818-404e-9289-42952cc5dd27",
   "metadata": {
    "tags": []
   },
   "outputs": [],
   "source": [
    "import pandas as pd\n",
    "import numpy as np\n",
    "import re\n",
    "\n",
    "import xgboost as xgb\n",
    "from sklearn.model_selection import train_test_split\n",
    "from sklearn.metrics import mean_squared_error, r2_score, mean_absolute_error\n",
    "\n",
    "import matplotlib.pyplot as plt\n",
    "\n",
    "import warnings\n",
    "\n",
    "warnings.filterwarnings(\"ignore\", category=FutureWarning)"
   ]
  },
  {
   "cell_type": "code",
   "execution_count": 3,
   "id": "55c09c91-98b4-4f06-a451-3d062f5c334d",
   "metadata": {
    "tags": []
   },
   "outputs": [],
   "source": [
    "data_1 = pd.read_csv('bina_az_02102023.csv')\n",
    "data_2 = pd.read_csv('bina_az_new.csv')\n",
    "data_3 = pd.read_csv('bina_az_old.csv')\n",
    "data_4 = pd.read_csv('bina_az_25102023.csv')\n",
    "frames = pd.concat([data_1, data_2,data_3,data_4], copy=False,ignore_index=True)\n",
    "frames = frames.reset_index(drop=True)\n",
    "frames=frames.drop_duplicates(keep='last')\n",
    "frames=frames.dropna(ignore_index=True)"
   ]
  },
  {
   "cell_type": "code",
   "execution_count": 4,
   "id": "87526b3f-7c8f-4279-91ff-5292fdd1e0f6",
   "metadata": {
    "tags": []
   },
   "outputs": [
    {
     "data": {
      "text/html": [
       "<div>\n",
       "<style scoped>\n",
       "    .dataframe tbody tr th:only-of-type {\n",
       "        vertical-align: middle;\n",
       "    }\n",
       "\n",
       "    .dataframe tbody tr th {\n",
       "        vertical-align: top;\n",
       "    }\n",
       "\n",
       "    .dataframe thead th {\n",
       "        text-align: right;\n",
       "    }\n",
       "</style>\n",
       "<table border=\"1\" class=\"dataframe\">\n",
       "  <thead>\n",
       "    <tr style=\"text-align: right;\">\n",
       "      <th></th>\n",
       "      <th>id</th>\n",
       "      <th>link</th>\n",
       "      <th>view</th>\n",
       "      <th>updated</th>\n",
       "      <th>title</th>\n",
       "      <th>seller_type</th>\n",
       "      <th>price</th>\n",
       "      <th>currency</th>\n",
       "      <th>description</th>\n",
       "      <th>category</th>\n",
       "      <th>flat_number</th>\n",
       "      <th>area</th>\n",
       "      <th>room_count</th>\n",
       "      <th>documents</th>\n",
       "      <th>is_repair</th>\n",
       "    </tr>\n",
       "  </thead>\n",
       "  <tbody>\n",
       "    <tr>\n",
       "      <th>46497</th>\n",
       "      <td>Elanın nömrəsi: 3835466</td>\n",
       "      <td>https://bina.az/items/3835466</td>\n",
       "      <td>Yeniləndi: 16 Oktyabr 2023 ,Baxışların sayı: 243</td>\n",
       "      <td>Yeniləndi: 16 Oktyabr 2023</td>\n",
       "      <td>Satılır 3 otaqlı köhnə tikili 45 m², 20 Yanvar m.</td>\n",
       "      <td>vasitəçi (agent)</td>\n",
       "      <td>106 000</td>\n",
       "      <td>AZN</td>\n",
       "      <td>20 yanvar m/s cixisinda 5 mertebeli binanin 1 ...</td>\n",
       "      <td>Köhnə tikili</td>\n",
       "      <td>1 / 5</td>\n",
       "      <td>45 m²</td>\n",
       "      <td>3</td>\n",
       "      <td>var</td>\n",
       "      <td>var</td>\n",
       "    </tr>\n",
       "    <tr>\n",
       "      <th>46498</th>\n",
       "      <td>Elanın nömrəsi: 3817086</td>\n",
       "      <td>https://bina.az/items/3817086</td>\n",
       "      <td>Yeniləndi: 16 Oktyabr 2023 ,Baxışların sayı: 587</td>\n",
       "      <td>Yeniləndi: 16 Oktyabr 2023</td>\n",
       "      <td>Satılır 4 otaqlı köhnə tikili 127 m², Səbail r.</td>\n",
       "      <td>vasitəçi (agent)</td>\n",
       "      <td>256 000</td>\n",
       "      <td>AZN</td>\n",
       "      <td>Təcili satılır!!! BAKI ŞƏHƏRİNİN ELİT ƏRAZİLƏR...</td>\n",
       "      <td>Köhnə tikili</td>\n",
       "      <td>7 / 9</td>\n",
       "      <td>127 m²</td>\n",
       "      <td>4</td>\n",
       "      <td>var</td>\n",
       "      <td>var</td>\n",
       "    </tr>\n",
       "    <tr>\n",
       "      <th>46499</th>\n",
       "      <td>Elanın nömrəsi: 3847448</td>\n",
       "      <td>https://bina.az/items/3847448</td>\n",
       "      <td>Yeniləndi: 16 Oktyabr 2023 ,Baxışların sayı: 66</td>\n",
       "      <td>Yeniləndi: 16 Oktyabr 2023</td>\n",
       "      <td>Satılır 2 otaqlı köhnə tikili 50 m², Neftçilər m.</td>\n",
       "      <td>vasitəçi (agent)</td>\n",
       "      <td>110 000</td>\n",
       "      <td>AZN</td>\n",
       "      <td>Nizami rayonu,Rüstəm Rüstəmov küçəsi,Neftçilər...</td>\n",
       "      <td>Köhnə tikili</td>\n",
       "      <td>5 / 5</td>\n",
       "      <td>50 m²</td>\n",
       "      <td>2</td>\n",
       "      <td>var</td>\n",
       "      <td>var</td>\n",
       "    </tr>\n",
       "    <tr>\n",
       "      <th>46500</th>\n",
       "      <td>Elanın nömrəsi: 3847609</td>\n",
       "      <td>https://bina.az/items/3847609</td>\n",
       "      <td>Yeniləndi: 16 Oktyabr 2023 ,Baxışların sayı: 142</td>\n",
       "      <td>Yeniləndi: 16 Oktyabr 2023</td>\n",
       "      <td>Satılır 2 otaqlı köhnə tikili 45 m², 8 Noyabr m.</td>\n",
       "      <td>vasitəçi (agent)</td>\n",
       "      <td>86 000</td>\n",
       "      <td>AZN</td>\n",
       "      <td>KUPÇALI!\\n,TƏCİLİ!+DUSMƏ QİYMƏTƏ!\\n,3-cü mikro...</td>\n",
       "      <td>Köhnə tikili</td>\n",
       "      <td>2 / 5</td>\n",
       "      <td>45 m²</td>\n",
       "      <td>2</td>\n",
       "      <td>var</td>\n",
       "      <td>var</td>\n",
       "    </tr>\n",
       "    <tr>\n",
       "      <th>46501</th>\n",
       "      <td>Elanın nömrəsi: 3847817</td>\n",
       "      <td>https://bina.az/items/3847817</td>\n",
       "      <td>Yeniləndi: 16 Oktyabr 2023 ,Baxışların sayı: 135</td>\n",
       "      <td>Yeniləndi: 16 Oktyabr 2023</td>\n",
       "      <td>Satılır 4 otaqlı köhnə tikili 100 m², Hövsan q.</td>\n",
       "      <td>vasitəçi (agent)</td>\n",
       "      <td>98 000</td>\n",
       "      <td>AZN</td>\n",
       "      <td>Hövsan PEKARNİNİN yanında 5/5 mərtəbə 4/3 otağ...</td>\n",
       "      <td>Köhnə tikili</td>\n",
       "      <td>5 / 5</td>\n",
       "      <td>100 m²</td>\n",
       "      <td>4</td>\n",
       "      <td>var</td>\n",
       "      <td>var</td>\n",
       "    </tr>\n",
       "  </tbody>\n",
       "</table>\n",
       "</div>"
      ],
      "text/plain": [
       "                            id                           link  \\\n",
       "46497  Elanın nömrəsi: 3835466  https://bina.az/items/3835466   \n",
       "46498  Elanın nömrəsi: 3817086  https://bina.az/items/3817086   \n",
       "46499  Elanın nömrəsi: 3847448  https://bina.az/items/3847448   \n",
       "46500  Elanın nömrəsi: 3847609  https://bina.az/items/3847609   \n",
       "46501  Elanın nömrəsi: 3847817  https://bina.az/items/3847817   \n",
       "\n",
       "                                                   view  \\\n",
       "46497  Yeniləndi: 16 Oktyabr 2023 ,Baxışların sayı: 243   \n",
       "46498  Yeniləndi: 16 Oktyabr 2023 ,Baxışların sayı: 587   \n",
       "46499   Yeniləndi: 16 Oktyabr 2023 ,Baxışların sayı: 66   \n",
       "46500  Yeniləndi: 16 Oktyabr 2023 ,Baxışların sayı: 142   \n",
       "46501  Yeniləndi: 16 Oktyabr 2023 ,Baxışların sayı: 135   \n",
       "\n",
       "                           updated  \\\n",
       "46497  Yeniləndi: 16 Oktyabr 2023    \n",
       "46498  Yeniləndi: 16 Oktyabr 2023    \n",
       "46499  Yeniləndi: 16 Oktyabr 2023    \n",
       "46500  Yeniləndi: 16 Oktyabr 2023    \n",
       "46501  Yeniləndi: 16 Oktyabr 2023    \n",
       "\n",
       "                                                   title       seller_type  \\\n",
       "46497  Satılır 3 otaqlı köhnə tikili 45 m², 20 Yanvar m.  vasitəçi (agent)   \n",
       "46498    Satılır 4 otaqlı köhnə tikili 127 m², Səbail r.  vasitəçi (agent)   \n",
       "46499  Satılır 2 otaqlı köhnə tikili 50 m², Neftçilər m.  vasitəçi (agent)   \n",
       "46500   Satılır 2 otaqlı köhnə tikili 45 m², 8 Noyabr m.  vasitəçi (agent)   \n",
       "46501    Satılır 4 otaqlı köhnə tikili 100 m², Hövsan q.  vasitəçi (agent)   \n",
       "\n",
       "         price currency                                        description  \\\n",
       "46497  106 000      AZN  20 yanvar m/s cixisinda 5 mertebeli binanin 1 ...   \n",
       "46498  256 000      AZN  Təcili satılır!!! BAKI ŞƏHƏRİNİN ELİT ƏRAZİLƏR...   \n",
       "46499  110 000      AZN  Nizami rayonu,Rüstəm Rüstəmov küçəsi,Neftçilər...   \n",
       "46500   86 000      AZN  KUPÇALI!\\n,TƏCİLİ!+DUSMƏ QİYMƏTƏ!\\n,3-cü mikro...   \n",
       "46501   98 000      AZN  Hövsan PEKARNİNİN yanında 5/5 mərtəbə 4/3 otağ...   \n",
       "\n",
       "           category flat_number    area room_count documents is_repair  \n",
       "46497  Köhnə tikili       1 / 5   45 m²          3       var       var  \n",
       "46498  Köhnə tikili       7 / 9  127 m²          4       var       var  \n",
       "46499  Köhnə tikili       5 / 5   50 m²          2       var       var  \n",
       "46500  Köhnə tikili       2 / 5   45 m²          2       var       var  \n",
       "46501  Köhnə tikili       5 / 5  100 m²          4       var       var  "
      ]
     },
     "execution_count": 4,
     "metadata": {},
     "output_type": "execute_result"
    }
   ],
   "source": [
    "frames.tail()"
   ]
  },
  {
   "cell_type": "markdown",
   "id": "b7bd5589-12f4-450f-a349-4031354bf017",
   "metadata": {
    "tags": []
   },
   "source": [
    "## is_near_metro"
   ]
  },
  {
   "cell_type": "code",
   "execution_count": 5,
   "id": "3e03faef-904f-45b2-b120-935e7dd2e347",
   "metadata": {
    "tags": []
   },
   "outputs": [],
   "source": [
    "frames['is_near_metro'] = (frames['description'].str.contains('m\\.', case=False)|frames['description'].str.contains('metro', case=False)).astype(int)"
   ]
  },
  {
   "cell_type": "markdown",
   "id": "5701ce9f-116a-4b15-a755-bb17bda870c6",
   "metadata": {},
   "source": [
    "## Seller type"
   ]
  },
  {
   "cell_type": "code",
   "execution_count": 6,
   "id": "59a989b5-d3a8-44dc-aa0e-ce8c6f65c4aa",
   "metadata": {
    "tags": []
   },
   "outputs": [],
   "source": [
    "frames = frames.drop(frames[frames['seller_type'] == 'seller_type'].index)\n",
    "frames['seller_type_encoded'] = frames['seller_type'].replace({'mülkiyyətçi': 1 ,'vasitəçi (agent)': 0 })"
   ]
  },
  {
   "cell_type": "markdown",
   "id": "ba30bee5-b7eb-41b5-b586-a8a563af7c47",
   "metadata": {},
   "source": [
    "## Category"
   ]
  },
  {
   "cell_type": "code",
   "execution_count": 7,
   "id": "2120c0db-f077-4a2f-851f-8c3f6c3a4757",
   "metadata": {
    "tags": []
   },
   "outputs": [],
   "source": [
    "frames['category_encoded'] = frames['category'].replace({'Yeni tikili': 1, 'Köhnə tikili': 0})"
   ]
  },
  {
   "cell_type": "markdown",
   "id": "be13a238-0682-4e65-b4c9-fb53123092ce",
   "metadata": {
    "tags": []
   },
   "source": [
    "## Flat"
   ]
  },
  {
   "cell_type": "code",
   "execution_count": 8,
   "id": "2a845c70-f5f8-4f6e-b34b-db9f4f0e6371",
   "metadata": {
    "tags": []
   },
   "outputs": [],
   "source": [
    "frames[['flat', 'total_flat']] = frames['flat_number'].str.split(' / ', expand=True).astype(int)"
   ]
  },
  {
   "cell_type": "markdown",
   "id": "63520aea-25fe-42f7-a4cc-77b75496095b",
   "metadata": {
    "tags": []
   },
   "source": [
    "## Area"
   ]
  },
  {
   "cell_type": "code",
   "execution_count": 9,
   "id": "1c275fec-5dca-4856-842e-7d5baec14528",
   "metadata": {
    "tags": []
   },
   "outputs": [],
   "source": [
    "def remove_non_numeric_and_convert_to_float(value):\n",
    "    numeric_part = re.sub(r'[^\\d.]', '', value)\n",
    "    if numeric_part:\n",
    "        return float(numeric_part)\n",
    "    else:\n",
    "        return None\n",
    "frames['area_converted'] = frames['area'].apply(remove_non_numeric_and_convert_to_float)"
   ]
  },
  {
   "cell_type": "markdown",
   "id": "78827ead-4310-4231-b993-bed690ebe467",
   "metadata": {
    "tags": []
   },
   "source": [
    "## Room count"
   ]
  },
  {
   "cell_type": "code",
   "execution_count": 10,
   "id": "5a362b22-22cc-438e-9228-bdc91d264216",
   "metadata": {
    "tags": []
   },
   "outputs": [],
   "source": [
    "frames['room_count'] = frames['room_count'].astype(int)"
   ]
  },
  {
   "cell_type": "markdown",
   "id": "686e959d-3b24-4d7b-89fb-f1f8ac88df8f",
   "metadata": {
    "tags": []
   },
   "source": [
    "## Document"
   ]
  },
  {
   "cell_type": "code",
   "execution_count": 11,
   "id": "3b908569-bbf3-455d-bbca-4b233463ac31",
   "metadata": {
    "tags": []
   },
   "outputs": [],
   "source": [
    "frames['documents_encoded'] = frames['documents'].replace({'var': 1, 'yoxdur': 0})"
   ]
  },
  {
   "cell_type": "markdown",
   "id": "453d4500-188f-4409-a42f-636e686062db",
   "metadata": {},
   "source": [
    "## Is repaired"
   ]
  },
  {
   "cell_type": "code",
   "execution_count": 12,
   "id": "b8677ace-8511-4431-8327-4d6f3fbf52aa",
   "metadata": {
    "tags": []
   },
   "outputs": [],
   "source": [
    "frames['is_repair_encoded'] = frames['is_repair'].replace({'var': 1, 'yoxdur': 0})"
   ]
  },
  {
   "cell_type": "markdown",
   "id": "1ae92cad-922f-4151-abd4-1c1abf266d6c",
   "metadata": {
    "tags": []
   },
   "source": [
    "## Price and Currency"
   ]
  },
  {
   "cell_type": "code",
   "execution_count": 13,
   "id": "3001e20f-c63d-45d5-9bfc-7a7894b5e253",
   "metadata": {
    "tags": []
   },
   "outputs": [],
   "source": [
    "frames['price'] = frames['price'].str.replace(' ', '', regex=True)\n",
    "frames['price'] = frames['price'].astype(int)"
   ]
  },
  {
   "cell_type": "code",
   "execution_count": 14,
   "id": "1609efc7-a1b3-4b72-a9f6-05ad76a07d8e",
   "metadata": {
    "tags": []
   },
   "outputs": [
    {
     "data": {
      "text/plain": [
       "array(['AZN'], dtype=object)"
      ]
     },
     "execution_count": 14,
     "metadata": {},
     "output_type": "execute_result"
    }
   ],
   "source": [
    "frames['currency'].unique()"
   ]
  },
  {
   "cell_type": "markdown",
   "id": "25c9b429-70aa-4b20-b0fc-9077f901ad40",
   "metadata": {
    "tags": []
   },
   "source": [
    "## Feature selection"
   ]
  },
  {
   "cell_type": "code",
   "execution_count": 15,
   "id": "6a3c3e31-6a50-4a3b-b970-29f8764556a0",
   "metadata": {
    "tags": []
   },
   "outputs": [
    {
     "data": {
      "text/plain": [
       "Index(['id', 'link', 'view', 'updated', 'title', 'seller_type', 'price',\n",
       "       'currency', 'description', 'category', 'flat_number', 'area',\n",
       "       'room_count', 'documents', 'is_repair', 'is_near_metro',\n",
       "       'seller_type_encoded', 'category_encoded', 'flat', 'total_flat',\n",
       "       'area_converted', 'documents_encoded', 'is_repair_encoded'],\n",
       "      dtype='object')"
      ]
     },
     "execution_count": 15,
     "metadata": {},
     "output_type": "execute_result"
    }
   ],
   "source": [
    "frames.columns"
   ]
  },
  {
   "cell_type": "code",
   "execution_count": 16,
   "id": "20e28e11-84db-4973-8025-b431b501bbe7",
   "metadata": {
    "tags": []
   },
   "outputs": [],
   "source": [
    "frames=frames[['seller_type_encoded','flat','total_flat','room_count','area_converted', 'category_encoded' , 'documents_encoded' ,'is_repair_encoded' ,'is_near_metro','price']].drop_duplicates(ignore_index=True)"
   ]
  },
  {
   "cell_type": "code",
   "execution_count": null,
   "id": "f26979d6-dc18-47fa-b5e2-6599a8f84a35",
   "metadata": {},
   "outputs": [],
   "source": []
  },
  {
   "cell_type": "markdown",
   "id": "87ded77b-fbba-4f21-815f-c4cf012de80c",
   "metadata": {
    "tags": []
   },
   "source": [
    "## Modelling"
   ]
  },
  {
   "cell_type": "code",
   "execution_count": 17,
   "id": "3f3db373-3a37-4d9e-942e-ca9007e2fdb3",
   "metadata": {
    "tags": []
   },
   "outputs": [
    {
     "name": "stdout",
     "output_type": "stream",
     "text": [
      "Model perforamnce metrics\n",
      "-----------------------\n",
      "R-squared: 0.71\n",
      "Root Mean Squared Error: 94692.87\n",
      "Mean Absolute Error: 47724.29\n",
      "-----------------------\n"
     ]
    }
   ],
   "source": [
    "data = frames\n",
    "X = data.drop(columns=['price'])\n",
    "y = data['price'] \n",
    "X_train, X_test, y_train, y_test = train_test_split(X, y, test_size=0.2, random_state=42)\n",
    "model = xgb.XGBRegressor(\n",
    "    learning_rate=0.1,\n",
    "    n_estimators=100,  \n",
    "    max_depth=3,\n",
    "    objective='reg:squarederror')\n",
    "model.fit(X_train, y_train)\n",
    "y_pred = model.predict(X_test)\n",
    "r2 = r2_score(y_test, y_pred)\n",
    "rmse = mean_squared_error(y_test, y_pred, squared=False)\n",
    "mae = mean_absolute_error(y_test, y_pred)\n",
    "print(\"Model perforamnce metrics\")\n",
    "print(\"-----------------------\")\n",
    "print(f\"R-squared: {r2:.2f}\")\n",
    "print(f\"Root Mean Squared Error: {rmse:.2f}\")\n",
    "print(f\"Mean Absolute Error: {mae:.2f}\")\n",
    "print(\"-----------------------\")"
   ]
  },
  {
   "cell_type": "markdown",
   "id": "cbccf62f-4d72-46e9-a9b6-55ec853bbd2a",
   "metadata": {
    "tags": []
   },
   "source": [
    "## Deployment from actual dataframe"
   ]
  },
  {
   "cell_type": "code",
   "execution_count": 18,
   "id": "0f359735-08b7-4c9e-8ada-334589aa58c8",
   "metadata": {
    "tags": []
   },
   "outputs": [
    {
     "name": "stdout",
     "output_type": "stream",
     "text": [
      "Inputs from first row :\n",
      "seller_type_encoded         0.0\n",
      "flat                        3.0\n",
      "total_flat                 17.0\n",
      "room_count                  2.0\n",
      "area_converted             65.0\n",
      "category_encoded            1.0\n",
      "documents_encoded           1.0\n",
      "is_repair_encoded           1.0\n",
      "is_near_metro               1.0\n",
      "price                  198000.0\n",
      "Name: 0, dtype: float64\n",
      "Actual Price for the First Row: 198000.00\n",
      "Predicted Price for the First Row: 150505.00\n"
     ]
    }
   ],
   "source": [
    "data = frames\n",
    "\n",
    "def train_xgboost_model(data):\n",
    "    X = data.drop(columns=['price'])  \n",
    "    y = data['price'] \n",
    "    model = xgb.XGBRegressor(\n",
    "        learning_rate=0.1,\n",
    "        n_estimators=100,\n",
    "        max_depth=3,\n",
    "        objective='reg:squarederror')\n",
    "    model.fit(X, y)\n",
    "    return model\n",
    "\n",
    "def deploy_first_row(model, data):\n",
    "    first_row = data.iloc[0]\n",
    "    actual_price = first_row['price']\n",
    "    prediction_data = first_row.drop(['price']).to_frame().T\n",
    "    predicted_price = model.predict(prediction_data)\n",
    "    predicted_price = predicted_price[0]\n",
    "    return actual_price, predicted_price\n",
    "trained_model = train_xgboost_model(data)\n",
    "actual_price, predicted_price = deploy_first_row(trained_model, data)\n",
    "print('Inputs from first row :')\n",
    "print( data.iloc[0])\n",
    "print(f\"Actual Price for the First Row: {actual_price:.2f}\")\n",
    "print(f\"Predicted Price for the First Row: {predicted_price:.2f}\")"
   ]
  },
  {
   "cell_type": "markdown",
   "id": "151ba0b7-18d1-4ba2-a56d-23f248e1eb93",
   "metadata": {},
   "source": [
    "## Feature Importance"
   ]
  },
  {
   "cell_type": "code",
   "execution_count": 19,
   "id": "e61882e7-f5e7-41bb-9ae5-0b744edcf0de",
   "metadata": {
    "tags": []
   },
   "outputs": [
    {
     "data": {
      "image/png": "[encoded data removed]",
      "text/plain": [
       "<Figure size 1000x600 with 1 Axes>"
      ]
     },
     "metadata": {},
     "output_type": "display_data"
    }
   ],
   "source": [
    "feature_importances = model.feature_importances_\n",
    "feature_importance_df = pd.DataFrame({'Feature': X.columns, 'Importance': feature_importances})\n",
    "sorted_feature_importance = feature_importance_df.sort_values(by='Importance', ascending=False)\n",
    "top_10_feature_importance = sorted_feature_importance.head(10)\n",
    "plt.figure(figsize=(10, 6))\n",
    "plt.barh(top_10_feature_importance['Feature'], top_10_feature_importance['Importance'])\n",
    "plt.xlabel('Feature Importance')\n",
    "plt.ylabel('Feature')\n",
    "plt.title('Feature Importance in XGBoost Model')\n",
    "plt.show()"
   ]
  }
 ],
 "metadata": {
  "kernelspec": {
   "display_name": "Python 3 (ipykernel)",
   "language": "python",
   "name": "python3"
  },
  "language_info": {
   "codemirror_mode": {
    "name": "ipython",
    "version": 3
   },
   "file_extension": ".py",
   "mimetype": "text/x-python",
   "name": "python",
   "nbconvert_exporter": "python",
   "pygments_lexer": "ipython3",
   "version": "3.10.12"
  }
 },
 "nbformat": 4,
 "nbformat_minor": 5
}
