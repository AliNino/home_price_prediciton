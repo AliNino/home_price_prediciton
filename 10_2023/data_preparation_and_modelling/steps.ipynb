{
 "cells": [
  {
   "cell_type": "code",
   "execution_count": 20,
   "id": "9184b348-5818-404e-9289-42952cc5dd27",
   "metadata": {
    "tags": []
   },
   "outputs": [],
   "source": [
    "import pandas as pd\n",
    "import numpy as np\n",
    "import re\n",
    "\n",
    "import xgboost as xgb\n",
    "from sklearn.model_selection import train_test_split\n",
    "from sklearn.metrics import mean_squared_error, r2_score, mean_absolute_error\n",
    "\n",
    "import warnings\n",
    "\n",
    "warnings.filterwarnings(\"ignore\", category=FutureWarning)"
   ]
  },
  {
   "cell_type": "code",
   "execution_count": 2,
   "id": "55c09c91-98b4-4f06-a451-3d062f5c334d",
   "metadata": {
    "tags": []
   },
   "outputs": [],
   "source": [
    "data_1 = pd.read_csv('bina_az_02102023.csv')\n",
    "data_2 = pd.read_csv('bina_az_new.csv')\n",
    "data_3 = pd.read_csv('bina_az_old.csv')\n",
    "frames = pd.concat([data_1, data_2,data_3], copy=False,ignore_index=True,)\n",
    "frames = frames.reset_index(drop=True)\n",
    "frames=frames.drop_duplicates(keep='last')\n",
    "frames=frames.dropna(ignore_index=True)"
   ]
  },
  {
   "cell_type": "code",
   "execution_count": 3,
   "id": "87526b3f-7c8f-4279-91ff-5292fdd1e0f6",
   "metadata": {
    "tags": []
   },
   "outputs": [
    {
     "data": {
      "text/html": [
       "<div>\n",
       "<style scoped>\n",
       "    .dataframe tbody tr th:only-of-type {\n",
       "        vertical-align: middle;\n",
       "    }\n",
       "\n",
       "    .dataframe tbody tr th {\n",
       "        vertical-align: top;\n",
       "    }\n",
       "\n",
       "    .dataframe thead th {\n",
       "        text-align: right;\n",
       "    }\n",
       "</style>\n",
       "<table border=\"1\" class=\"dataframe\">\n",
       "  <thead>\n",
       "    <tr style=\"text-align: right;\">\n",
       "      <th></th>\n",
       "      <th>id</th>\n",
       "      <th>link</th>\n",
       "      <th>view</th>\n",
       "      <th>updated</th>\n",
       "      <th>title</th>\n",
       "      <th>seller_type</th>\n",
       "      <th>price</th>\n",
       "      <th>currency</th>\n",
       "      <th>description</th>\n",
       "      <th>category</th>\n",
       "      <th>flat_number</th>\n",
       "      <th>area</th>\n",
       "      <th>room_count</th>\n",
       "      <th>documents</th>\n",
       "      <th>is_repair</th>\n",
       "    </tr>\n",
       "  </thead>\n",
       "  <tbody>\n",
       "    <tr>\n",
       "      <th>0</th>\n",
       "      <td>Elanın nömrəsi: 3792340</td>\n",
       "      <td>https://bina.az/items/3792340</td>\n",
       "      <td>Yeniləndi: Bugün 10:01 ,Baxışların sayı: 327</td>\n",
       "      <td>Yeniləndi: Bugün 10:01</td>\n",
       "      <td>Satılır 2 otaqlı yeni tikili 65 m², Şah İsmayı...</td>\n",
       "      <td>vasitəçi (agent)</td>\n",
       "      <td>198 000</td>\n",
       "      <td>AZN</td>\n",
       "      <td>TƏCİLİ SATILIR,KİRAYƏ VERMƏK ÜÇÜN İDEAL VARİAN...</td>\n",
       "      <td>Yeni tikili</td>\n",
       "      <td>3 / 17</td>\n",
       "      <td>65 m²</td>\n",
       "      <td>2.0</td>\n",
       "      <td>var</td>\n",
       "      <td>var</td>\n",
       "    </tr>\n",
       "    <tr>\n",
       "      <th>1</th>\n",
       "      <td>Elanın nömrəsi: 3803498</td>\n",
       "      <td>https://bina.az/items/3803498</td>\n",
       "      <td>Yeniləndi: Bugün 10:00 ,Baxışların sayı: 287</td>\n",
       "      <td>Yeniləndi: Bugün 10:00</td>\n",
       "      <td>Satılır 3 otaqlı yeni tikili 95 m², 28 May m.</td>\n",
       "      <td>vasitəçi (agent)</td>\n",
       "      <td>245 000</td>\n",
       "      <td>AZN</td>\n",
       "      <td>Təcili.. Mərkəzdə, Azadlıq Prospekti, 28 May M...</td>\n",
       "      <td>Yeni tikili</td>\n",
       "      <td>5 / 19</td>\n",
       "      <td>95 m²</td>\n",
       "      <td>3.0</td>\n",
       "      <td>var</td>\n",
       "      <td>var</td>\n",
       "    </tr>\n",
       "    <tr>\n",
       "      <th>2</th>\n",
       "      <td>Elanın nömrəsi: 3812351</td>\n",
       "      <td>https://bina.az/items/3812351</td>\n",
       "      <td>Yeniləndi: Bugün 09:59 ,Baxışların sayı: 129</td>\n",
       "      <td>Yeniləndi: Bugün 09:59</td>\n",
       "      <td>Satılır 2 otaqlı yeni tikili 50 m², Nəsimi r.</td>\n",
       "      <td>vasitəçi (agent)</td>\n",
       "      <td>159 000</td>\n",
       "      <td>AZN</td>\n",
       "      <td>QAZLI VƏ YAŞAYİŞLI !!!,Yüksək keyfiyətlə inşa ...</td>\n",
       "      <td>Yeni tikili</td>\n",
       "      <td>6 / 16</td>\n",
       "      <td>50 m²</td>\n",
       "      <td>2.0</td>\n",
       "      <td>yoxdur</td>\n",
       "      <td>var</td>\n",
       "    </tr>\n",
       "    <tr>\n",
       "      <th>3</th>\n",
       "      <td>Elanın nömrəsi: 3812704</td>\n",
       "      <td>https://bina.az/items/3812704</td>\n",
       "      <td>Yeniləndi: Bugün 09:56 ,Baxışların sayı: 54</td>\n",
       "      <td>Yeniləndi: Bugün 09:56</td>\n",
       "      <td>Satılır 4 otaqlı yeni tikili 153 m², Əhmədli q.</td>\n",
       "      <td>vasitəçi (agent)</td>\n",
       "      <td>335 000</td>\n",
       "      <td>AZN</td>\n",
       "      <td>TƏCİLİ ! SATILIR. 4 otaqlı Əla təmirlidir əşya...</td>\n",
       "      <td>Yeni tikili</td>\n",
       "      <td>10 / 20</td>\n",
       "      <td>153 m²</td>\n",
       "      <td>4.0</td>\n",
       "      <td>var</td>\n",
       "      <td>var</td>\n",
       "    </tr>\n",
       "    <tr>\n",
       "      <th>4</th>\n",
       "      <td>Elanın nömrəsi: 3743518</td>\n",
       "      <td>https://bina.az/items/3743518</td>\n",
       "      <td>Yeniləndi: Bugün 09:56 ,Baxışların sayı: 198</td>\n",
       "      <td>Yeniləndi: Bugün 09:56</td>\n",
       "      <td>Satılır 3 otaqlı yeni tikili 120 m², Nəsimi m.</td>\n",
       "      <td>vasitəçi (agent)</td>\n",
       "      <td>224 000</td>\n",
       "      <td>AZN</td>\n",
       "      <td>Binəqədi rayonu,  6-ci mikrorayon , NƏSİMİ MET...</td>\n",
       "      <td>Yeni tikili</td>\n",
       "      <td>9 / 18</td>\n",
       "      <td>120 m²</td>\n",
       "      <td>3.0</td>\n",
       "      <td>var</td>\n",
       "      <td>var</td>\n",
       "    </tr>\n",
       "  </tbody>\n",
       "</table>\n",
       "</div>"
      ],
      "text/plain": [
       "                        id                           link  \\\n",
       "0  Elanın nömrəsi: 3792340  https://bina.az/items/3792340   \n",
       "1  Elanın nömrəsi: 3803498  https://bina.az/items/3803498   \n",
       "2  Elanın nömrəsi: 3812351  https://bina.az/items/3812351   \n",
       "3  Elanın nömrəsi: 3812704  https://bina.az/items/3812704   \n",
       "4  Elanın nömrəsi: 3743518  https://bina.az/items/3743518   \n",
       "\n",
       "                                           view                  updated  \\\n",
       "0  Yeniləndi: Bugün 10:01 ,Baxışların sayı: 327  Yeniləndi: Bugün 10:01    \n",
       "1  Yeniləndi: Bugün 10:00 ,Baxışların sayı: 287  Yeniləndi: Bugün 10:00    \n",
       "2  Yeniləndi: Bugün 09:59 ,Baxışların sayı: 129  Yeniləndi: Bugün 09:59    \n",
       "3   Yeniləndi: Bugün 09:56 ,Baxışların sayı: 54  Yeniləndi: Bugün 09:56    \n",
       "4  Yeniləndi: Bugün 09:56 ,Baxışların sayı: 198  Yeniləndi: Bugün 09:56    \n",
       "\n",
       "                                               title       seller_type  \\\n",
       "0  Satılır 2 otaqlı yeni tikili 65 m², Şah İsmayı...  vasitəçi (agent)   \n",
       "1      Satılır 3 otaqlı yeni tikili 95 m², 28 May m.  vasitəçi (agent)   \n",
       "2      Satılır 2 otaqlı yeni tikili 50 m², Nəsimi r.  vasitəçi (agent)   \n",
       "3    Satılır 4 otaqlı yeni tikili 153 m², Əhmədli q.  vasitəçi (agent)   \n",
       "4     Satılır 3 otaqlı yeni tikili 120 m², Nəsimi m.  vasitəçi (agent)   \n",
       "\n",
       "     price currency                                        description  \\\n",
       "0  198 000      AZN  TƏCİLİ SATILIR,KİRAYƏ VERMƏK ÜÇÜN İDEAL VARİAN...   \n",
       "1  245 000      AZN  Təcili.. Mərkəzdə, Azadlıq Prospekti, 28 May M...   \n",
       "2  159 000      AZN  QAZLI VƏ YAŞAYİŞLI !!!,Yüksək keyfiyətlə inşa ...   \n",
       "3  335 000      AZN  TƏCİLİ ! SATILIR. 4 otaqlı Əla təmirlidir əşya...   \n",
       "4  224 000      AZN  Binəqədi rayonu,  6-ci mikrorayon , NƏSİMİ MET...   \n",
       "\n",
       "      category flat_number    area room_count documents is_repair  \n",
       "0  Yeni tikili      3 / 17   65 m²        2.0       var       var  \n",
       "1  Yeni tikili      5 / 19   95 m²        3.0       var       var  \n",
       "2  Yeni tikili      6 / 16   50 m²        2.0    yoxdur       var  \n",
       "3  Yeni tikili     10 / 20  153 m²        4.0       var       var  \n",
       "4  Yeni tikili      9 / 18  120 m²        3.0       var       var  "
      ]
     },
     "execution_count": 3,
     "metadata": {},
     "output_type": "execute_result"
    }
   ],
   "source": [
    "frames.head()"
   ]
  },
  {
   "cell_type": "markdown",
   "id": "5701ce9f-116a-4b15-a755-bb17bda870c6",
   "metadata": {},
   "source": [
    "## Seller type"
   ]
  },
  {
   "cell_type": "code",
   "execution_count": 4,
   "id": "59a989b5-d3a8-44dc-aa0e-ce8c6f65c4aa",
   "metadata": {
    "tags": []
   },
   "outputs": [],
   "source": [
    "frames = frames.drop(frames[frames['seller_type'] == 'seller_type'].index)\n",
    "frames['seller_type_encoded'] = frames['seller_type'].replace({'vasitəçi (agent)': 0, 'mülkiyyətçi': 1})"
   ]
  },
  {
   "cell_type": "markdown",
   "id": "ba30bee5-b7eb-41b5-b586-a8a563af7c47",
   "metadata": {},
   "source": [
    "## Category"
   ]
  },
  {
   "cell_type": "code",
   "execution_count": 5,
   "id": "2120c0db-f077-4a2f-851f-8c3f6c3a4757",
   "metadata": {
    "tags": []
   },
   "outputs": [],
   "source": [
    "frames['category_encoded'] = frames['category'].replace({'Yeni tikili': 0, 'Köhnə tikili': 1})"
   ]
  },
  {
   "cell_type": "markdown",
   "id": "be13a238-0682-4e65-b4c9-fb53123092ce",
   "metadata": {
    "tags": []
   },
   "source": [
    "## Flat"
   ]
  },
  {
   "cell_type": "code",
   "execution_count": 6,
   "id": "2a845c70-f5f8-4f6e-b34b-db9f4f0e6371",
   "metadata": {
    "tags": []
   },
   "outputs": [],
   "source": [
    "frames[['flat', 'total_flat']] = frames['flat_number'].str.split(' / ', expand=True).astype(int)"
   ]
  },
  {
   "cell_type": "markdown",
   "id": "63520aea-25fe-42f7-a4cc-77b75496095b",
   "metadata": {
    "tags": []
   },
   "source": [
    "## Area"
   ]
  },
  {
   "cell_type": "code",
   "execution_count": 7,
   "id": "1c275fec-5dca-4856-842e-7d5baec14528",
   "metadata": {
    "tags": []
   },
   "outputs": [],
   "source": [
    "def remove_non_numeric_and_convert_to_float(value):\n",
    "    numeric_part = re.sub(r'[^\\d.]', '', value)\n",
    "    if numeric_part:\n",
    "        return float(numeric_part)\n",
    "    else:\n",
    "        return None\n",
    "frames['area_converted'] = frames['area'].apply(remove_non_numeric_and_convert_to_float)"
   ]
  },
  {
   "cell_type": "markdown",
   "id": "78827ead-4310-4231-b993-bed690ebe467",
   "metadata": {
    "tags": []
   },
   "source": [
    "## Room count"
   ]
  },
  {
   "cell_type": "code",
   "execution_count": 8,
   "id": "5a362b22-22cc-438e-9228-bdc91d264216",
   "metadata": {
    "tags": []
   },
   "outputs": [],
   "source": [
    "frames['room_count'] = frames['room_count'].astype(int)"
   ]
  },
  {
   "cell_type": "markdown",
   "id": "686e959d-3b24-4d7b-89fb-f1f8ac88df8f",
   "metadata": {
    "tags": []
   },
   "source": [
    "## Document"
   ]
  },
  {
   "cell_type": "code",
   "execution_count": 9,
   "id": "3b908569-bbf3-455d-bbca-4b233463ac31",
   "metadata": {
    "tags": []
   },
   "outputs": [],
   "source": [
    "frames['documents_encoded'] = frames['documents'].replace({'var': 1, 'yoxdur': 0})"
   ]
  },
  {
   "cell_type": "markdown",
   "id": "453d4500-188f-4409-a42f-636e686062db",
   "metadata": {},
   "source": [
    "## Is repaired"
   ]
  },
  {
   "cell_type": "code",
   "execution_count": 10,
   "id": "b8677ace-8511-4431-8327-4d6f3fbf52aa",
   "metadata": {
    "tags": []
   },
   "outputs": [],
   "source": [
    "frames['is_repair_encoded'] = frames['is_repair'].replace({'var': 1, 'yoxdur': 0})"
   ]
  },
  {
   "cell_type": "markdown",
   "id": "1ae92cad-922f-4151-abd4-1c1abf266d6c",
   "metadata": {
    "tags": []
   },
   "source": [
    "## Price and Currency"
   ]
  },
  {
   "cell_type": "code",
   "execution_count": 11,
   "id": "3001e20f-c63d-45d5-9bfc-7a7894b5e253",
   "metadata": {
    "tags": []
   },
   "outputs": [],
   "source": [
    "frames['price'] = frames['price'].str.replace(' ', '', regex=True)\n",
    "frames['price'] = frames['price'].astype(int)"
   ]
  },
  {
   "cell_type": "code",
   "execution_count": 12,
   "id": "1609efc7-a1b3-4b72-a9f6-05ad76a07d8e",
   "metadata": {
    "tags": []
   },
   "outputs": [
    {
     "data": {
      "text/plain": [
       "array(['AZN'], dtype=object)"
      ]
     },
     "execution_count": 12,
     "metadata": {},
     "output_type": "execute_result"
    }
   ],
   "source": [
    "frames['currency'].unique()"
   ]
  },
  {
   "cell_type": "markdown",
   "id": "25c9b429-70aa-4b20-b0fc-9077f901ad40",
   "metadata": {
    "tags": []
   },
   "source": [
    "## Feature selection"
   ]
  },
  {
   "cell_type": "code",
   "execution_count": 13,
   "id": "6a3c3e31-6a50-4a3b-b970-29f8764556a0",
   "metadata": {
    "tags": []
   },
   "outputs": [
    {
     "data": {
      "text/plain": [
       "Index(['id', 'link', 'view', 'updated', 'title', 'seller_type', 'price',\n",
       "       'currency', 'description', 'category', 'flat_number', 'area',\n",
       "       'room_count', 'documents', 'is_repair', 'seller_type_encoded',\n",
       "       'category_encoded', 'flat', 'total_flat', 'area_converted',\n",
       "       'documents_encoded', 'is_repair_encoded'],\n",
       "      dtype='object')"
      ]
     },
     "execution_count": 13,
     "metadata": {},
     "output_type": "execute_result"
    }
   ],
   "source": [
    "frames.columns"
   ]
  },
  {
   "cell_type": "code",
   "execution_count": 14,
   "id": "20e28e11-84db-4973-8025-b431b501bbe7",
   "metadata": {
    "tags": []
   },
   "outputs": [],
   "source": [
    "frames=frames[['seller_type_encoded','flat','total_flat','area_converted', 'category_encoded' , 'documents_encoded' ,'is_repair_encoded' ,'price']].drop_duplicates(ignore_index=True)"
   ]
  },
  {
   "cell_type": "markdown",
   "id": "87ded77b-fbba-4f21-815f-c4cf012de80c",
   "metadata": {
    "tags": []
   },
   "source": [
    "## Modelling"
   ]
  },
  {
   "cell_type": "code",
   "execution_count": 21,
   "id": "3f3db373-3a37-4d9e-942e-ca9007e2fdb3",
   "metadata": {
    "tags": []
   },
   "outputs": [
    {
     "name": "stdout",
     "output_type": "stream",
     "text": [
      "Model perforamnce metrics\n",
      "-----------------------\n",
      "R-squared: 0.67\n",
      "Root Mean Squared Error: 117289.90\n",
      "Mean Absolute Error: 51037.98\n",
      "-----------------------\n"
     ]
    }
   ],
   "source": [
    "data = frames\n",
    "\n",
    "# Split the data into features and target\n",
    "X = data.drop(columns=['price'])  # Features\n",
    "y = data['price']  # Target\n",
    "\n",
    "# Split the data into training and testing sets\n",
    "X_train, X_test, y_train, y_test = train_test_split(X, y, test_size=0.2, random_state=42)\n",
    "\n",
    "# Create an XGBoost model\n",
    "model = xgb.XGBRegressor(\n",
    "    learning_rate=0.1,  # Learning rate\n",
    "    n_estimators=100,  # Number of boosting rounds (you can adjust this)\n",
    "    max_depth=3,  # Maximum tree depth (you can adjust this)\n",
    "    objective='reg:squarederror'  # Regression task\n",
    ")\n",
    "\n",
    "# Train the model\n",
    "model.fit(X_train, y_train)\n",
    "\n",
    "# Make predictions on the test set\n",
    "y_pred = model.predict(X_test)\n",
    "\n",
    "r2 = r2_score(y_test, y_pred)\n",
    "rmse = mean_squared_error(y_test, y_pred, squared=False)\n",
    "mae = mean_absolute_error(y_test, y_pred)\n",
    "print(\"Model perforamnce metrics\")\n",
    "print(\"-----------------------\")\n",
    "print(f\"R-squared: {r2:.2f}\")\n",
    "print(f\"Root Mean Squared Error: {rmse:.2f}\")\n",
    "print(f\"Mean Absolute Error: {mae:.2f}\")\n",
    "print(\"-----------------------\")"
   ]
  },
  {
   "cell_type": "code",
   "execution_count": null,
   "id": "81d664c7-f23e-4369-bfb7-91e611531d1c",
   "metadata": {},
   "outputs": [],
   "source": []
  },
  {
   "cell_type": "code",
   "execution_count": null,
   "id": "85d194b5-b055-4b60-9c04-8aadf0bbe0d7",
   "metadata": {},
   "outputs": [],
   "source": []
  },
  {
   "cell_type": "code",
   "execution_count": null,
   "id": "654d0f4b-89bd-4079-a84d-c52a5e944e41",
   "metadata": {},
   "outputs": [],
   "source": []
  }
 ],
 "metadata": {
  "kernelspec": {
   "display_name": "Python 3 (ipykernel)",
   "language": "python",
   "name": "python3"
  },
  "language_info": {
   "codemirror_mode": {
    "name": "ipython",
    "version": 3
   },
   "file_extension": ".py",
   "mimetype": "text/x-python",
   "name": "python",
   "nbconvert_exporter": "python",
   "pygments_lexer": "ipython3",
   "version": "3.10.12"
  }
 },
 "nbformat": 4,
 "nbformat_minor": 5
}
